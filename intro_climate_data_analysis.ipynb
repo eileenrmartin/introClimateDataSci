{
  "nbformat": 4,
  "nbformat_minor": 0,
  "metadata": {
    "colab": {
      "name": "Copy of intro-climate-data-analysis.ipynb",
      "provenance": [],
      "collapsed_sections": [],
      "include_colab_link": true
    },
    "kernelspec": {
      "name": "python3",
      "display_name": "Python 3"
    },
    "language_info": {
      "name": "python"
    }
  },
  "cells": [
    {
      "cell_type": "markdown",
      "metadata": {
        "id": "view-in-github",
        "colab_type": "text"
      },
      "source": [
        "<a href=\"https://colab.research.google.com/github/eileenrmartin/introClimateDataSci/blob/main/intro_climate_data_analysis.ipynb\" target=\"_parent\"><img src=\"https://colab.research.google.com/assets/colab-badge.svg\" alt=\"Open In Colab\"/></a>"
      ]
    },
    {
      "cell_type": "markdown",
      "source": [
        "### Deliverables: \n",
        "\n",
        "1. introduction material to the climate problem\n",
        "2. basic ability to retrieve and read data from online open repository\n",
        "3. examples of a few basic plots \n",
        "4. basic intro to how to read data values out of an array, and how to find max and min values in arrays\n",
        "5. set of questions for student exploration"
      ],
      "metadata": {
        "id": "UsPZ4UsC1Jiq"
      }
    },
    {
      "cell_type": "markdown",
      "source": [
        "**Introduction:**\n",
        "Carbon dioxide (CO2) is an important greenhouse gas that helps to trap heat in our atmosphere. Atmospheric CO2 makes Earth hospitable, however, an modern increases in CO2 concentrations are causing average global temperatures to rise. Atmospheric CO2 concentrations have varied substantially throughout geologic history. In this exercise, we will construct a composite record of atmospheric CO2 from 800,000 years ago to present to observe how the increase in CO2 in our modern record is unprecendented in the context of geological history. \n",
        "\n",
        "**Data science specific learning goals**\n",
        "By completing this exercise, you will gain the ability to:\n",
        "1. Retrieve and read data from an online open repository\n",
        "2. Generate basic plots of data\n",
        "3. Interrogate data in an array (e.g., read values, find max/min)\n",
        "\n",
        "**Climate science specific learning goals**\n",
        "By completing this exercise you will: \n",
        "1. Be able to relate seasonal and long-term trends in atmospheric CO2 to fluxes in the carbon cycle\n",
        "2. Gain an understanding of consequences of increasing CO2 levels (e.g., climate change and ocean acidification)\n",
        "3. Be able to make predictions about future trends in atmospheric CO2 concentrations "
      ],
      "metadata": {
        "id": "CfTaeH_12xRp"
      }
    },
    {
      "cell_type": "code",
      "source": [
        "import pandas as pd                    # lets us access tools for working with many data values (data frames)\n",
        "import matplotlib.pyplot as plt        # lets us access tools for plotting\n",
        "%matplotlib inline                   \n",
        "# line above ensures that plots are interative (e.g. can zoom with buttons)\n",
        "import sklearn as skl                  # lets us access tools for data fitting and machine learning\n",
        "import numpy as np"
      ],
      "metadata": {
        "id": "UjS62x1FB8u2"
      },
      "execution_count": 23,
      "outputs": []
    },
    {
      "cell_type": "markdown",
      "source": [
        "**Data:**\n",
        "All data for this exercise are available [here](https://keelingcurve.ucsd.edu/permissions-and-data-sources/). Below you will grab data from the web using [!wget](https://en.wikipedia.org/wiki/Wget)"
      ],
      "metadata": {
        "id": "gq2EPep3CSmj"
      }
    },
    {
      "cell_type": "code",
      "execution_count": 3,
      "metadata": {
        "id": "QhJvi3y1unBr",
        "colab": {
          "base_uri": "https://localhost:8080/"
        },
        "outputId": "d0c19b51-5997-4b36-ec20-47e2727bacc2"
      },
      "outputs": [
        {
          "output_type": "stream",
          "name": "stdout",
          "text": [
            "--2022-06-23 14:04:23--  https://www.ncei.noaa.gov/pub/data/paleo/icecore/antarctica/epica_domec/edc-co2-2008.txt\n",
            "Resolving www.ncei.noaa.gov (www.ncei.noaa.gov)... 205.167.25.172, 205.167.25.178, 205.167.25.168, ...\n",
            "Connecting to www.ncei.noaa.gov (www.ncei.noaa.gov)|205.167.25.172|:443... connected.\n",
            "HTTP request sent, awaiting response... 200 OK\n",
            "Length: 107462 (105K) [text/plain]\n",
            "Saving to: ‘edc-co2-2008.txt’\n",
            "\n",
            "edc-co2-2008.txt    100%[===================>] 104.94K  --.-KB/s    in 0.09s   \n",
            "\n",
            "2022-06-23 14:04:24 (1.19 MB/s) - ‘edc-co2-2008.txt’ saved [107462/107462]\n",
            "\n",
            "--2022-06-23 14:04:24--  https://scrippsco2.ucsd.edu/assets/data/atmospheric/stations/in_situ_co2/monthly/monthly_in_situ_co2_mlo.csv\n",
            "Resolving scrippsco2.ucsd.edu (scrippsco2.ucsd.edu)... 169.228.224.138\n",
            "Connecting to scrippsco2.ucsd.edu (scrippsco2.ucsd.edu)|169.228.224.138|:443... connected.\n",
            "HTTP request sent, awaiting response... 200 OK\n",
            "Length: 77907 (76K) [text/csv]\n",
            "Saving to: ‘monthly_in_situ_co2_mlo.csv’\n",
            "\n",
            "monthly_in_situ_co2 100%[===================>]  76.08K   396KB/s    in 0.2s    \n",
            "\n",
            "2022-06-23 14:04:25 (396 KB/s) - ‘monthly_in_situ_co2_mlo.csv’ saved [77907/77907]\n",
            "\n"
          ]
        }
      ],
      "source": [
        "#Data from 800,000 to 1958\n",
        "!wget https://www.ncei.noaa.gov/pub/data/paleo/icecore/antarctica/epica_domec/edc-co2-2008.txt\n",
        "\n",
        "#Data from 1958 to today\n",
        "!wget https://scrippsco2.ucsd.edu/assets/data/atmospheric/stations/in_situ_co2/monthly/monthly_in_situ_co2_mlo.csv"
      ]
    },
    {
      "cell_type": "markdown",
      "source": [
        "*Read the files you downloaded and store the data in Pandas data frames.* \n",
        "\n",
        "First we will work with ice core data in a text (txt) file. These data contain measurements of CO2 from 800,000 years ago to ~present. Present when we think about ice core data does *NOT* mean today, but rather 1950. So keep in mind while you look through these data that the yrBP column actually means years before 1950. \n",
        "\n",
        "These data are generated by measuring the composition of air trapped in bubbles of Antarctic ice cores. You can read more about ice core records in [this paper.](https://https://www.nature.com/articles/nature06949) "
      ],
      "metadata": {
        "id": "SEvXtpcXC4qu"
      }
    },
    {
      "cell_type": "code",
      "source": [
        "txtFilename = 'edc-co2-2008.txt'\n",
        "ancientData = pd.read_csv(txtFilename, delimiter=r'\\s+', skiprows=773, header=None)   # read the actual data values\n",
        "print(\"The number of (measurements, attributes) in these data is: \"+str(ancientData.shape))\n",
        "headersRaw = pd.read_csv(txtFilename, delimiter=r'\\s+', skiprows=773, nrows=1, header=None)   # read the headers, with long ones on multiple lines\n",
        "headers = headersRaw.sum(axis=0)    # add (append) the text for each header that's split across rows\n",
        "print(headers)\n",
        "ancientData = pd.read_csv(txtFilename, delimiter=r'\\s+', skiprows=774, names=list(headers))   # read the actual data values\n",
        "print(\"The number of (measurement times, attributes) in these data is: \"+str(ancientData.shape))\n"
      ],
      "metadata": {
        "id": "0vVorcoc0G97",
        "colab": {
          "base_uri": "https://localhost:8080/"
        },
        "outputId": "5c699b8e-5358-4988-fb2b-bc90e7aa671a"
      },
      "execution_count": 65,
      "outputs": [
        {
          "output_type": "stream",
          "name": "stdout",
          "text": [
            "The number of (measurements, attributes) in these data is: (1097, 2)\n",
            "0    Age(yrBP)\n",
            "1    CO2(ppmv)\n",
            "dtype: object\n",
            "The number of (measurement times, attributes) in these data is: (1096, 2)\n"
          ]
        }
      ]
    },
    {
      "cell_type": "markdown",
      "source": [
        "*Now you can take a look at your data frame*"
      ],
      "metadata": {
        "id": "QvDbUsshIe-A"
      }
    },
    {
      "cell_type": "code",
      "source": [
        "print(ancientData)"
      ],
      "metadata": {
        "colab": {
          "base_uri": "https://localhost:8080/"
        },
        "id": "RLvZ0BoMIkPD",
        "outputId": "fce5efd2-83a1-400a-b10f-de8ffab399ab"
      },
      "execution_count": 60,
      "outputs": [
        {
          "output_type": "stream",
          "name": "stdout",
          "text": [
            "      Age(yrBP)  CO2(ppmv)\n",
            "0           137      280.4\n",
            "1           268      274.9\n",
            "2           279      277.9\n",
            "3           395      279.1\n",
            "4           404      281.9\n",
            "...         ...        ...\n",
            "1091     794608      199.4\n",
            "1092     795202      195.2\n",
            "1093     796467      189.3\n",
            "1094     797099      188.4\n",
            "1095     798512      191.0\n",
            "\n",
            "[1096 rows x 2 columns]\n"
          ]
        }
      ]
    },
    {
      "cell_type": "markdown",
      "source": [
        "You can see that you have 1096 rows of data in two columns. The first column contains information about the age and the second contains the CO2 concentration associated with that age. \n",
        "\n",
        "*Next, let's make a quick plot of these data. Note that we reversed the x axis so that we can visualize the oldest data (~800,000 yrBP) on the left and the most recent data (0 yrBP) on the right.* "
      ],
      "metadata": {
        "id": "IrIezN1sI1RD"
      }
    },
    {
      "cell_type": "code",
      "source": [
        "ax = ancientData.plot.scatter(x='Age(yrBP)',y='CO2(ppmv)')\n",
        "ax.set_title(\"Ice core CO2 record\")\n",
        "plt.gca().invert_xaxis()\n",
        "plt.show()"
      ],
      "metadata": {
        "colab": {
          "base_uri": "https://localhost:8080/",
          "height": 295
        },
        "id": "mlRBwlchJO6B",
        "outputId": "9ad3a8b7-88e5-4f89-ab68-aa97630c6393"
      },
      "execution_count": 63,
      "outputs": [
        {
          "output_type": "display_data",
          "data": {
            "text/plain": [
              "<Figure size 432x288 with 1 Axes>"
            ],
            "image/png": "[encoded data removed]"
          },
          "metadata": {
            "needs_background": "light"
          }
        }
      ]
    },
    {
      "cell_type": "markdown",
      "source": [
        "**Question 1**: What are your first observations of these data?"
      ],
      "metadata": {
        "id": "gulpOIh6KNh-"
      }
    },
    {
      "cell_type": "markdown",
      "source": [
        "Next we will work with monthly measurements of atmospheric CO2 from the Mauna Loa Observatory. You may be familiar with these data if you have ever heard of the [Keeling Curve](https://keelingcurve.ucsd.edu/category/keeling-curve-history/). These data are stored as a comma-separated-value (csv) file. Note that time here is recorded as the year and month that each measurement was taken. "
      ],
      "metadata": {
        "id": "dB1obMd8DXz9"
      }
    },
    {
      "cell_type": "code",
      "source": [
        "# Now, read in the csv file\n",
        "csvFilename = 'monthly_in_situ_co2_mlo.csv'\n",
        "headersRaw = pd.read_csv(csvFilename, skiprows=54, nrows=3, header=None)   # read the headers, with long ones on multiple lines\n",
        "headers = headersRaw.sum(axis=0)    # add (append) the text for each header that's split across rows\n",
        "headersClean = [thisHdr.replace(\" \",\"\") for thisHdr in list(headers)] # replace spaces with nothing\n",
        "# print the headers to see what attributes are measured\n",
        "print(\"The \"+str(headers.size)+\" headers are: \\n\")\n",
        "print(headersClean)\n",
        "recentData = pd.read_csv(csvFilename, skiprows=57, names=headersClean)   # read the actual data values\n",
        "print(\"The number of (measurement times, attributes) in these data is: \"+str(recentData.shape))"
      ],
      "metadata": {
        "colab": {
          "base_uri": "https://localhost:8080/"
        },
        "id": "RkLJexWwB-Fc",
        "outputId": "32f9b39a-9be5-4729-b201-71966c1380fb"
      },
      "execution_count": 52,
      "outputs": [
        {
          "output_type": "stream",
          "name": "stdout",
          "text": [
            "The 10 headers are: \n",
            "\n",
            "['Yr', 'Mn', 'DateExcel', 'Date', 'CO2[ppm]', 'seasonallyadjusted[ppm]', 'fit[ppm]', 'seasonallyadjustedfit[ppm]', 'CO2filled[ppm]', 'seasonallyadjustedfilled[ppm]']\n",
            "The number of (measurement times, attributes) in these data is: (780, 10)\n"
          ]
        }
      ]
    },
    {
      "cell_type": "markdown",
      "source": [
        "*Now you can take a look at your data frame*"
      ],
      "metadata": {
        "id": "RjZm6sIUM29Y"
      }
    },
    {
      "cell_type": "code",
      "source": [
        "print(recentData)"
      ],
      "metadata": {
        "id": "vdu3whJnKzgy",
        "colab": {
          "base_uri": "https://localhost:8080/"
        },
        "outputId": "70bf1e80-b551-4f95-fc0c-d12d857df985"
      },
      "execution_count": 59,
      "outputs": [
        {
          "output_type": "stream",
          "name": "stdout",
          "text": [
            "       Yr  Mn  DateExcel       Date  CO2[ppm]  seasonallyadjusted[ppm]  \\\n",
            "0    1958   1      21200  1958.0411    -99.99                   -99.99   \n",
            "1    1958   2      21231  1958.1260    -99.99                   -99.99   \n",
            "2    1958   3      21259  1958.2027    315.71                   314.44   \n",
            "3    1958   4      21290  1958.2877    317.45                   315.16   \n",
            "4    1958   5      21320  1958.3699    317.51                   314.70   \n",
            "..    ...  ..        ...        ...       ...                      ...   \n",
            "775  2022   8      44788  2022.6219    -99.99                   -99.99   \n",
            "776  2022   9      44819  2022.7068    -99.99                   -99.99   \n",
            "777  2022  10      44849  2022.7890    -99.99                   -99.99   \n",
            "778  2022  11      44880  2022.8740    -99.99                   -99.99   \n",
            "779  2022  12      44910  2022.9562    -99.99                   -99.99   \n",
            "\n",
            "     fit[ppm]  seasonallyadjustedfit[ppm]  CO2filled[ppm]  \\\n",
            "0      -99.99                      -99.99          -99.99   \n",
            "1      -99.99                      -99.99          -99.99   \n",
            "2      316.20                      314.91          315.71   \n",
            "3      317.30                      314.99          317.45   \n",
            "4      317.87                      315.07          317.51   \n",
            "..        ...                         ...             ...   \n",
            "775    -99.99                      -99.99          -99.99   \n",
            "776    -99.99                      -99.99          -99.99   \n",
            "777    -99.99                      -99.99          -99.99   \n",
            "778    -99.99                      -99.99          -99.99   \n",
            "779    -99.99                      -99.99          -99.99   \n",
            "\n",
            "     seasonallyadjustedfilled[ppm]  \n",
            "0                           -99.99  \n",
            "1                           -99.99  \n",
            "2                           314.44  \n",
            "3                           315.16  \n",
            "4                           314.70  \n",
            "..                             ...  \n",
            "775                         -99.99  \n",
            "776                         -99.99  \n",
            "777                         -99.99  \n",
            "778                         -99.99  \n",
            "779                         -99.99  \n",
            "\n",
            "[780 rows x 10 columns]\n"
          ]
        }
      ]
    },
    {
      "cell_type": "markdown",
      "source": [
        "This dataset contains more columns....[blah blah talk about something here]\n",
        "\n",
        "*And we can make a quick plot to look at these data, too!*"
      ],
      "metadata": {
        "id": "r0mDTIOVMx7B"
      }
    },
    {
      "cell_type": "code",
      "source": [
        "ax = recentData.plot.scatter(x='Date',y='CO2[ppm]')\n",
        "ax.set_title(\"Mauna Loa CO2 record\")\n",
        "plt.show()"
      ],
      "metadata": {
        "colab": {
          "base_uri": "https://localhost:8080/",
          "height": 295
        },
        "id": "Y6Lr6mC5NNvs",
        "outputId": "1bfe36ac-bd08-4856-8f80-06da68a2c0a5"
      },
      "execution_count": 66,
      "outputs": [
        {
          "output_type": "display_data",
          "data": {
            "text/plain": [
              "<Figure size 432x288 with 1 Axes>"
            ],
            "image/png": "[encoded data removed]"
          },
          "metadata": {
            "needs_background": "light"
          }
        }
      ]
    },
    {
      "cell_type": "markdown",
      "source": [
        "You will notice in this plot that there are a few obviously erroneous datapoints that record negative CO2 concentrations. These values are easy to ignore with your eye, so just go ahead and ignore them for now. \n",
        "\n",
        "**Question 2**: How do these data from the observational era compare to the ancient dataset we worked with from ice cores?"
      ],
      "metadata": {
        "id": "4oDdH_cUOnB3"
      }
    },
    {
      "cell_type": "markdown",
      "source": [
        "*Before we combine these two datasets, we need to make sure time is on the same axis. To do this we need to convert the ice core data to standard calendar years by subtracting age from 1950.*"
      ],
      "metadata": {
        "id": "AD4SZuh7D5KW"
      }
    },
    {
      "cell_type": "code",
      "source": [
        "present = 1950\n",
        "ancientData['Date'] = present - ancientData['Age(yrBP)']\n",
        "print(\"New ancientData is: \\n\")\n",
        "print(ancientData)"
      ],
      "metadata": {
        "colab": {
          "base_uri": "https://localhost:8080/"
        },
        "id": "oN8X6-_PAwZj",
        "outputId": "2ff94755-702b-4fdb-da81-ac73d363f792"
      },
      "execution_count": 73,
      "outputs": [
        {
          "output_type": "stream",
          "name": "stdout",
          "text": [
            "New ancientData is: \n",
            "\n",
            "      Age(yrBP)  CO2[ppm]    Date\n",
            "0           137     280.4    1813\n",
            "1           268     274.9    1682\n",
            "2           279     277.9    1671\n",
            "3           395     279.1    1555\n",
            "4           404     281.9    1546\n",
            "...         ...       ...     ...\n",
            "1091     794608     199.4 -792658\n",
            "1092     795202     195.2 -793252\n",
            "1093     796467     189.3 -794517\n",
            "1094     797099     188.4 -795149\n",
            "1095     798512     191.0 -796562\n",
            "\n",
            "[1096 rows x 3 columns]\n"
          ]
        }
      ]
    },
    {
      "cell_type": "markdown",
      "source": [
        "*Now let's append the two data frames into a new one that contains all of the CO2 data from 800,000 years ago to today*"
      ],
      "metadata": {
        "id": "jYrZXYdGEj7b"
      }
    },
    {
      "cell_type": "code",
      "source": [
        "ancientData.rename(columns={'CO2(ppmv)': 'CO2[ppm]'}, inplace=True)\n",
        "DateAndCO2 = ['Date', 'CO2[ppm]']\n",
        "data = pd.concat([ancientData[DateAndCO2],recentData[DateAndCO2]])\n",
        "print(data)"
      ],
      "metadata": {
        "colab": {
          "base_uri": "https://localhost:8080/"
        },
        "id": "Mh-w4Ab1A_L_",
        "outputId": "4f968232-8aeb-4a79-dcb9-aba147c3040d"
      },
      "execution_count": 74,
      "outputs": [
        {
          "output_type": "stream",
          "name": "stdout",
          "text": [
            "          Date  CO2[ppm]\n",
            "0    1813.0000    280.40\n",
            "1    1682.0000    274.90\n",
            "2    1671.0000    277.90\n",
            "3    1555.0000    279.10\n",
            "4    1546.0000    281.90\n",
            "..         ...       ...\n",
            "775  2022.6219    -99.99\n",
            "776  2022.7068    -99.99\n",
            "777  2022.7890    -99.99\n",
            "778  2022.8740    -99.99\n",
            "779  2022.9562    -99.99\n",
            "\n",
            "[1876 rows x 2 columns]\n"
          ]
        }
      ]
    },
    {
      "cell_type": "markdown",
      "source": [
        "We can also take a minute to get rid of those erroneous negative values we found when we plotted the Mauna Loa record. "
      ],
      "metadata": {
        "id": "SS8ifdhIRi1u"
      }
    },
    {
      "cell_type": "code",
      "source": [
        "# first, find the indices of which CO2[ppm] data were junk (negative) values\n",
        "whereNegative = data[data['CO2[ppm]'] < 0].index # grabs the index of each negative CO2 reading in the data frame \n",
        "print(\"The indices of measurements with negative values are: \\n\"+str(whereNegative))\n",
        "# now drop those entries from the data frame\n",
        "data.drop(whereNegative, inplace=True)"
      ],
      "metadata": {
        "colab": {
          "base_uri": "https://localhost:8080/"
        },
        "id": "01tqGxSpRh89",
        "outputId": "9b360f23-ba3c-46a2-f945-f5003c33bf65"
      },
      "execution_count": 75,
      "outputs": [
        {
          "output_type": "stream",
          "name": "stdout",
          "text": [
            "The indices of measurements with negative values are: \n",
            "Int64Index([0, 1, 5, 9, 73, 74, 75, 773, 774, 775, 776, 777, 778, 779], dtype='int64')\n"
          ]
        }
      ]
    },
    {
      "cell_type": "markdown",
      "source": [
        "*And now we can look at all of the data together unobstructed by the erroneous measurements*"
      ],
      "metadata": {
        "id": "Oz42rHTfE-Hi"
      }
    },
    {
      "cell_type": "code",
      "source": [
        "ax = data.plot.scatter(x='Date',y='CO2[ppm]')\n",
        "ax.set_title(\"Atmospheric [CO2] from 800,000 yr BP to today\")\n",
        "ax.set_xticklabels(ax.get_xticks(), rotation = 45)\n",
        "plt.show()"
      ],
      "metadata": {
        "colab": {
          "base_uri": "https://localhost:8080/",
          "height": 328
        },
        "id": "rm9gMpVmFDZU",
        "outputId": "8b703d40-60e7-46d2-9ce4-8d8ed97b9639"
      },
      "execution_count": 79,
      "outputs": [
        {
          "output_type": "display_data",
          "data": {
            "text/plain": [
              "<Figure size 432x288 with 1 Axes>"
            ],
            "image/png": "[encoded data removed]"
          },
          "metadata": {
            "needs_background": "light"
          }
        }
      ]
    },
    {
      "cell_type": "markdown",
      "source": [
        "**Question 3**: Revisit your answer to Q2. What differences do you observe between these datasets now that they are plotted together? Where do the lowest CO2 concentrations occur? What about the highest?"
      ],
      "metadata": {
        "id": "ktU6FTjgTFCa"
      }
    },
    {
      "cell_type": "markdown",
      "source": [
        "*Next we will search our dataframe to find the maximum and minimum CO2 concentrations in our composite record*"
      ],
      "metadata": {
        "id": "KTrF7temUkwH"
      }
    },
    {
      "cell_type": "code",
      "source": [
        "column=data[\"CO2[ppm]\"]\n",
        "min_value = column.min()\n",
        "print(min_value)\n",
        "\n",
        "column=data[\"CO2[ppm]\"]\n",
        "max_value = column.max()\n",
        "print(max_value)"
      ],
      "metadata": {
        "colab": {
          "base_uri": "https://localhost:8080/"
        },
        "id": "1Jh6WV6yTcZw",
        "outputId": "13c14c1c-8689-4f8b-dd38-ca6c8d6341c3"
      },
      "execution_count": 82,
      "outputs": [
        {
          "output_type": "stream",
          "name": "stdout",
          "text": [
            "171.6\n",
            "420.78\n"
          ]
        }
      ]
    },
    {
      "cell_type": "markdown",
      "source": [
        "We can also search our dataframe to figure out when those concentrations occured."
      ],
      "metadata": {
        "id": "NcrcBOKDWRnL"
      }
    },
    {
      "cell_type": "code",
      "source": [
        ""
      ],
      "metadata": {
        "id": "tau09oawWdNz"
      },
      "execution_count": null,
      "outputs": []
    }
  ]
}