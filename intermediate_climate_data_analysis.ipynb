{
  "nbformat": 4,
  "nbformat_minor": 0,
  "metadata": {
    "colab": {
      "name": "Copy of intermediate-climate-data-analysis.ipynb",
      "provenance": [],
      "authorship_tag": "ABX9TyNylNZl/BaJ6n5HqNX1RCAs",
      "include_colab_link": true
    },
    "kernelspec": {
      "name": "python3",
      "display_name": "Python 3"
    },
    "language_info": {
      "name": "python"
    }
  },
  "cells": [
    {
      "cell_type": "markdown",
      "metadata": {
        "id": "view-in-github",
        "colab_type": "text"
      },
      "source": [
        "<a href=\"https://colab.research.google.com/github/eileenrmartin/introClimateDataSci/blob/main/intermediate_climate_data_analysis.ipynb\" target=\"_parent\"><img src=\"https://colab.research.google.com/assets/colab-badge.svg\" alt=\"Open In Colab\"/></a>"
      ]
    },
    {
      "cell_type": "markdown",
      "source": [
        "## Deliverables:\n",
        "\n",
        "1. intro to linear regression\n",
        "2. test of linear regression on ice core data \n",
        "3. intro to using linear regression for parameters of other types of functions\n",
        "4. test of different non-linear regressions on ice core data\n",
        "5. questions for student exploration"
      ],
      "metadata": {
        "id": "tV9BsYR43hmp"
      }
    },
    {
      "cell_type": "code",
      "source": [
        ""
      ],
      "metadata": {
        "id": "myH-dy8a-nqT"
      },
      "execution_count": null,
      "outputs": []
    },
    {
      "cell_type": "markdown",
      "source": [
        "###Introduction\n",
        "\n",
        "In our previous notebook, we were able to \n",
        "* download ice core data that measures the concentration of CO2 on Earth \n",
        "* read and visualize that data in several ways\n",
        "* understand the range of values in different time intervals\n",
        "\n",
        "We might also want to be able to quantify trends in these data. In this notebook you will learn some foundational tools for quantitatively estimating trends in these data. For example, one might wonder: \n",
        "* Is the change in CO2 concentration the same each year (i.e. a linear trend) or does this change vary significantly from year to year (i.e. a non-linear trend)? \n",
        "* If these data are following a non-linear trend, could we still find a way to estimate and predict the change?  \n",
        "\n",
        "**Data Science Learning Goals:** \n",
        "1. Understand what it means to fit a function to time series data.\n",
        "2. Be able to carry out and compare multiple types of regression on the same data. \n",
        "\n",
        "**Climate Science Learning Goals:** \n",
        "1. Be able to *quantitatively* relate seasonal and long-term trends in atmospheric CO2 to fluxes in the carbon cycle\n",
        "2. Be able to make approximate predictions about future trends in atmospheric CO2 concentrations"
      ],
      "metadata": {
        "id": "r5BrKt0o6WFo"
      }
    },
    {
      "cell_type": "markdown",
      "source": [
        "## Linear Regression: A Simple Way to Describe (some) Trends in Data"
      ],
      "metadata": {
        "id": "4WuO4x2U5yPG"
      }
    },
    {
      "cell_type": "markdown",
      "source": [
        "TO ADD: some text about why we often want to fit data with a line.\n",
        "\n"
      ],
      "metadata": {
        "id": "ZETELt106IX0"
      }
    },
    {
      "cell_type": "code",
      "execution_count": 46,
      "metadata": {
        "id": "rIkbGgtT3bms"
      },
      "outputs": [],
      "source": [
        "import pandas as pd                    # lets us access tools for working with many data values (data frames)\n",
        "import matplotlib.pyplot as plt        # lets us access tools for plotting\n",
        "%matplotlib inline                   \n",
        "# line above ensures that plots are interative (e.g. can zoom with buttons)\n",
        "import sklearn as skl                  # lets us access tools for data fitting and machine learning"
      ]
    },
    {
      "cell_type": "markdown",
      "source": [
        "*Grab the ice core data.*"
      ],
      "metadata": {
        "id": "2cxiE9ZsCWhD"
      }
    },
    {
      "cell_type": "code",
      "source": [
        "#Data from 800,000 to 1958\n",
        "!wget https://www.ncei.noaa.gov/pub/data/paleo/icecore/antarctica/epica_domec/edc-co2-2008.txt\n",
        "\n",
        "#Data from 1958 to today\n",
        "!wget https://scrippsco2.ucsd.edu/assets/data/atmospheric/stations/in_situ_co2/monthly/monthly_in_situ_co2_mlo.csv"
      ],
      "metadata": {
        "colab": {
          "base_uri": "https://localhost:8080/"
        },
        "id": "hMUY4RChCJJn",
        "outputId": "10c40795-24f7-442b-ca36-9da0d2937a36"
      },
      "execution_count": 3,
      "outputs": [
        {
          "output_type": "stream",
          "name": "stdout",
          "text": [
            "--2022-06-21 20:55:11--  https://www.ncei.noaa.gov/pub/data/paleo/icecore/antarctica/epica_domec/edc-co2-2008.txt\n",
            "Resolving www.ncei.noaa.gov (www.ncei.noaa.gov)... 205.167.25.177, 205.167.25.172, 205.167.25.167, ...\n",
            "Connecting to www.ncei.noaa.gov (www.ncei.noaa.gov)|205.167.25.177|:443... connected.\n",
            "HTTP request sent, awaiting response... 200 OK\n",
            "Length: 107462 (105K) [text/plain]\n",
            "Saving to: ‘edc-co2-2008.txt’\n",
            "\n",
            "edc-co2-2008.txt    100%[===================>] 104.94K  --.-KB/s    in 0.09s   \n",
            "\n",
            "2022-06-21 20:55:11 (1.19 MB/s) - ‘edc-co2-2008.txt’ saved [107462/107462]\n",
            "\n",
            "--2022-06-21 20:55:12--  https://scrippsco2.ucsd.edu/assets/data/atmospheric/stations/in_situ_co2/monthly/monthly_in_situ_co2_mlo.csv\n",
            "Resolving scrippsco2.ucsd.edu (scrippsco2.ucsd.edu)... 169.228.224.138\n",
            "Connecting to scrippsco2.ucsd.edu (scrippsco2.ucsd.edu)|169.228.224.138|:443... connected.\n",
            "HTTP request sent, awaiting response... 200 OK\n",
            "Length: 77907 (76K) [text/csv]\n",
            "Saving to: ‘monthly_in_situ_co2_mlo.csv’\n",
            "\n",
            "monthly_in_situ_co2 100%[===================>]  76.08K   397KB/s    in 0.2s    \n",
            "\n",
            "2022-06-21 20:55:12 (397 KB/s) - ‘monthly_in_situ_co2_mlo.csv’ saved [77907/77907]\n",
            "\n"
          ]
        }
      ]
    },
    {
      "cell_type": "markdown",
      "source": [
        "*Read the files you downloaded and store the data in Pandas data frames. One is a text (txt) file and the other is a comma-separated-value (csv) file, so they use different methods to read.*\n"
      ],
      "metadata": {
        "id": "ITdsKwAZCefr"
      }
    },
    {
      "cell_type": "code",
      "source": [
        "\n",
        "\n",
        "csvFilename = 'monthly_in_situ_co2_mlo.csv'\n",
        "headersRaw = pd.read_csv(csvFilename, skiprows=54, nrows=3, header=None)   # read the headers, with long ones on multiple lines\n",
        "headers = headersRaw.sum(axis=0)    # add (append) the text for each header that's split across rows\n",
        "print(\"The \"+str(headers.size)+\" headers are: \\n\")\n",
        "print(headers)\n",
        "headersClean = [thisHdr.strip() for thisHdr in list(headers)]\n",
        "recentData = pd.read_csv(csvFilename, skiprows=57, names=headersClean)   # read the actual data values\n",
        "print(\"The number of (measurement times, attributes) in these data is: \"+str(recentData.shape))"
      ],
      "metadata": {
        "colab": {
          "base_uri": "https://localhost:8080/"
        },
        "id": "eK0TKzEfCd7-",
        "outputId": "c301bd5b-45b3-4b23-ad6d-19a4cd2f476d"
      },
      "execution_count": 30,
      "outputs": [
        {
          "output_type": "stream",
          "name": "stdout",
          "text": [
            "The 10 headers are: \n",
            "\n",
            "0                             Yr        \n",
            "1                               Mn      \n",
            "2                   Date           Excel\n",
            "3               Date                    \n",
            "4                    CO2           [ppm]\n",
            "5         seasonally  adjusted    [ppm] \n",
            "6              fit                 [ppm]\n",
            "7        seasonallyadjusted fit    [ppm]\n",
            "8               CO2   filled       [ppm]\n",
            "9     seasonallyadjusted filled    [ppm]\n",
            "dtype: object\n",
            "The number of (measurement times, attributes) in these data is: (780, 10)\n"
          ]
        }
      ]
    },
    {
      "cell_type": "markdown",
      "source": [
        "*Let's take another look at some of our data. What trends do you see?*"
      ],
      "metadata": {
        "id": "3wxnJnqgK-36"
      }
    },
    {
      "cell_type": "code",
      "source": [
        "ax = recentData.plot.scatter(x='Date',y='CO2           [ppm]')\n",
        "ax.set_title(\"CO2 over time\")\n",
        "plt.show()"
      ],
      "metadata": {
        "colab": {
          "base_uri": "https://localhost:8080/",
          "height": 295
        },
        "id": "pJK9gSfeF1Jq",
        "outputId": "47349d43-95cd-46d2-b3cd-c08dfc3d8e8f"
      },
      "execution_count": 49,
      "outputs": [
        {
          "output_type": "display_data",
          "data": {
            "text/plain": [
              "<Figure size 432x288 with 1 Axes>"
            ],
            "image/png": "[encoded data removed]"
          },
          "metadata": {
            "needs_background": "light"
          }
        }
      ]
    },
    {
      "cell_type": "markdown",
      "source": [
        "*Notice that there are a few valus that don't make any sense, -100 parts of CO2 per million? When looking at these points by eye, we can easily just ignore these. But when we want to instruct the computer to automatically analyze these data for trends, we've got to tell it which points to ignore. This is often referred to as* **pre-processing** *or* **data cleaning.** \n",
        "\n",
        "*In this case, we want to ignore data points that have a negative CO2 concentration.*"
      ],
      "metadata": {
        "id": "6NC-I_c3NgL4"
      }
    },
    {
      "cell_type": "code",
      "source": [
        ""
      ],
      "metadata": {
        "id": "yMpm1LRuL3v_"
      },
      "execution_count": null,
      "outputs": []
    }
  ]
}